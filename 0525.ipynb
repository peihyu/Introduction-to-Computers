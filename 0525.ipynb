{
  "nbformat": 4,
  "nbformat_minor": 0,
  "metadata": {
    "colab": {
      "provenance": [],
      "authorship_tag": "ABX9TyPGOJpE/mZBTm0EqxHvpd7Z",
      "include_colab_link": true
    },
    "kernelspec": {
      "name": "python3",
      "display_name": "Python 3"
    },
    "language_info": {
      "name": "python"
    }
  },
  "cells": [
    {
      "cell_type": "markdown",
      "metadata": {
        "id": "view-in-github",
        "colab_type": "text"
      },
      "source": [
        "<a href=\"https://colab.research.google.com/github/peihyu/Introduction-to-Computers/blob/main/0525.ipynb\" target=\"_parent\"><img src=\"https://colab.research.google.com/assets/colab-badge.svg\" alt=\"Open In Colab\"/></a>"
      ]
    },
    {
      "cell_type": "code",
      "execution_count": 20,
      "metadata": {
        "colab": {
          "base_uri": "https://localhost:8080/"
        },
        "id": "-YVCpVLKyirI",
        "outputId": "c928f847-b38a-4f7c-955c-5c41cdecb2a0"
      },
      "outputs": [
        {
          "output_type": "stream",
          "name": "stdout",
          "text": [
            "0,1,2,3,4,5,6,7,8,"
          ]
        }
      ],
      "source": [
        "for i in range(0,9):\n",
        "  print(i,end=',')"
      ]
    },
    {
      "cell_type": "code",
      "source": [
        "for j in range(1,10,1):\n",
        "  print(j,end=',')"
      ],
      "metadata": {
        "colab": {
          "base_uri": "https://localhost:8080/"
        },
        "id": "9h-grTGgyr_V",
        "outputId": "9edb5b92-fa22-4f91-b86c-69f86e660748"
      },
      "execution_count": 17,
      "outputs": [
        {
          "output_type": "stream",
          "name": "stdout",
          "text": [
            "1,2,3,4,5,6,7,8,9,"
          ]
        }
      ]
    },
    {
      "cell_type": "code",
      "source": [
        "for k in range(1,10,2):\n",
        "  print(k,end=',')"
      ],
      "metadata": {
        "colab": {
          "base_uri": "https://localhost:8080/"
        },
        "id": "yDe31UEUy1sk",
        "outputId": "51589800-00f6-42e5-c325-81c3a5b0138f"
      },
      "execution_count": 21,
      "outputs": [
        {
          "output_type": "stream",
          "name": "stdout",
          "text": [
            "1,3,5,7,9,"
          ]
        }
      ]
    },
    {
      "cell_type": "code",
      "source": [
        "for l in range(10,1,-2):\n",
        "  print(l,end=',')  "
      ],
      "metadata": {
        "colab": {
          "base_uri": "https://localhost:8080/"
        },
        "id": "Kb5U1VKwy794",
        "outputId": "1df40daf-31de-4b29-ae72-8d6562b45a34"
      },
      "execution_count": 22,
      "outputs": [
        {
          "output_type": "stream",
          "name": "stdout",
          "text": [
            "10,8,6,4,2,"
          ]
        }
      ]
    },
    {
      "cell_type": "code",
      "source": [
        "n = int(input('請輸入一個正整數：'))\n",
        "for a in range(1,n+1):\n",
        "  print(a,end=' ')"
      ],
      "metadata": {
        "colab": {
          "base_uri": "https://localhost:8080/"
        },
        "id": "U6fMtoXCzIpT",
        "outputId": "4136d74e-62c5-4e20-ba40-7d1d47c2dd3c"
      },
      "execution_count": 24,
      "outputs": [
        {
          "output_type": "stream",
          "name": "stdout",
          "text": [
            "請輸入一個正整數：5\n",
            "1 2 3 4 5 "
          ]
        }
      ]
    },
    {
      "cell_type": "code",
      "source": [
        "n = int(input('請輸入一個正整數：'))\n",
        "for a in range(1,n+1):\n",
        "  print(a,end=' ')"
      ],
      "metadata": {
        "colab": {
          "base_uri": "https://localhost:8080/"
        },
        "id": "3WTm833Q1bgI",
        "outputId": "89621bb7-2c53-4e00-bba4-aaa83426470f"
      },
      "execution_count": 25,
      "outputs": [
        {
          "output_type": "stream",
          "name": "stdout",
          "text": [
            "請輸入一個正整數：12\n",
            "1 2 3 4 5 6 7 8 9 10 11 12 "
          ]
        }
      ]
    },
    {
      "cell_type": "code",
      "source": [
        "a = int(input('請輸入一個正整數：'))\n",
        "total = 0\n",
        "for i in range(1,a+1):\n",
        "  total += i\n",
        "print(\"1到\",a,\"的整數和為\",total)"
      ],
      "metadata": {
        "colab": {
          "base_uri": "https://localhost:8080/"
        },
        "id": "eS-b6F3i1hKs",
        "outputId": "8c0a4740-5157-4485-cfd4-f03594b5d9f0"
      },
      "execution_count": 29,
      "outputs": [
        {
          "output_type": "stream",
          "name": "stdout",
          "text": [
            "請輸入一個正整數：10\n",
            "1到 10 的整數和為 55\n"
          ]
        }
      ]
    },
    {
      "cell_type": "code",
      "source": [
        "a = int(input('請輸入一個正整數：'))\n",
        "total = 0\n",
        "for i in range(1,a+1):\n",
        "  total += i\n",
        "print(\"1到\",a,\"的整數和為\",total)"
      ],
      "metadata": {
        "colab": {
          "base_uri": "https://localhost:8080/"
        },
        "id": "rYjqhn_d2ln7",
        "outputId": "cbeca2a8-62d6-4cce-9f88-97485be4cb9e"
      },
      "execution_count": 30,
      "outputs": [
        {
          "output_type": "stream",
          "name": "stdout",
          "text": [
            "請輸入一個正整數：50\n",
            "1到 50 的整數和為 1275\n"
          ]
        }
      ]
    },
    {
      "cell_type": "code",
      "source": [
        "n = int(input('請輸入一個正整數：'))\n",
        "total=0\n",
        "for i in range(1,n+1):\n",
        "  total += i \n",
        "  print(\"1到\",n,\"的整數和為：\",total)"
      ],
      "metadata": {
        "colab": {
          "base_uri": "https://localhost:8080/"
        },
        "id": "hx3g9w1y28t0",
        "outputId": "304750b0-4a31-438e-bd57-fca406faaffa"
      },
      "execution_count": 32,
      "outputs": [
        {
          "output_type": "stream",
          "name": "stdout",
          "text": [
            "請輸入一個正整數：10\n",
            "1到 10 的整數和為： 1\n",
            "1到 10 的整數和為： 3\n",
            "1到 10 的整數和為： 6\n",
            "1到 10 的整數和為： 10\n",
            "1到 10 的整數和為： 15\n",
            "1到 10 的整數和為： 21\n",
            "1到 10 的整數和為： 28\n",
            "1到 10 的整數和為： 36\n",
            "1到 10 的整數和為： 45\n",
            "1到 10 的整數和為： 55\n"
          ]
        }
      ]
    },
    {
      "cell_type": "code",
      "source": [],
      "metadata": {
        "id": "Z39gROzI35Wc"
      },
      "execution_count": null,
      "outputs": []
    }
  ]
}