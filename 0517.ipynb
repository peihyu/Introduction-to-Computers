{
  "nbformat": 4,
  "nbformat_minor": 0,
  "metadata": {
    "colab": {
      "provenance": [],
      "authorship_tag": "ABX9TyP5ek+ljg2hAtjhwFoSK9F4",
      "include_colab_link": true
    },
    "kernelspec": {
      "name": "python3",
      "display_name": "Python 3"
    },
    "language_info": {
      "name": "python"
    }
  },
  "cells": [
    {
      "cell_type": "markdown",
      "metadata": {
        "id": "view-in-github",
        "colab_type": "text"
      },
      "source": [
        "<a href=\"https://colab.research.google.com/github/peihyu/Introduction-to-Computers/blob/main/0517.ipynb\" target=\"_parent\"><img src=\"https://colab.research.google.com/assets/colab-badge.svg\" alt=\"Open In Colab\"/></a>"
      ]
    },
    {
      "cell_type": "code",
      "source": [
        "score = int(input(\"score: \"))\n",
        "if score >= 90:\n",
        "    print('Grade is: A')\n",
        "elif score >= 80:\n",
        "    print('Grade is: B')\n",
        "elif score >= 70:\n",
        "    print('Grade is: C')\n",
        "elif score >= 60:\n",
        "    print('Grade is: D')\n",
        "else:\n",
        "    print('Grade is: E')"
      ],
      "metadata": {
        "colab": {
          "base_uri": "https://localhost:8080/"
        },
        "id": "BFpn_JrpAxMf",
        "outputId": "7014fb5e-a7e1-4174-b9ab-9281b649dfc5"
      },
      "execution_count": 11,
      "outputs": [
        {
          "output_type": "stream",
          "name": "stdout",
          "text": [
            "score: 82\n",
            "Grade is: B\n"
          ]
        }
      ]
    },
    {
      "cell_type": "code",
      "source": [
        "rain=input('今天會下雨嗎？')\n",
        "if (rain=='Y'or rain=='y'):\n",
        "  print('出門記得帶傘！')\n",
        "elif (rain=='N'or rain=='n'):\n",
        "  print('今天不用帶傘！')\n",
        "else:\n",
        "  print('輸入錯誤')"
      ],
      "metadata": {
        "colab": {
          "base_uri": "https://localhost:8080/"
        },
        "id": "4gI_XMTPBX79",
        "outputId": "f8770f5f-dece-437b-d711-e6433628ba3c"
      },
      "execution_count": 15,
      "outputs": [
        {
          "output_type": "stream",
          "name": "stdout",
          "text": [
            "今天會下雨嗎？y\n",
            "出門記得帶傘！\n"
          ]
        }
      ]
    },
    {
      "cell_type": "code",
      "execution_count": 5,
      "metadata": {
        "colab": {
          "base_uri": "https://localhost:8080/"
        },
        "id": "LdyrBwKR5fin",
        "outputId": "ab3eb228-902e-4bb3-b5b7-c5d4decf6c2f"
      },
      "outputs": [
        {
          "output_type": "stream",
          "name": "stdout",
          "text": [
            "請輸入溫度：36.5\n",
            "體溫正常！\n"
          ]
        }
      ],
      "source": [
        "temperature=float(input(\"請輸入溫度：\"))\n",
        "if temperature >=37.5:\n",
        "  print(\"體溫過高！\")\n",
        "elif temperature>=37 and temperature<=37.4:\n",
        "  print('體溫略高！')\n",
        "elif temperature>=34 and temperature<=36.9:\n",
        "  print('體溫正常！')\n",
        "else:\n",
        "  print('體溫異常，請重新量測！')"
      ]
    },
    {
      "cell_type": "code",
      "source": [
        "month=int(input('請輸入月份：'))\n",
        "if month>=3 and month<=5:\n",
        "  print(month,'月是春天！')\n",
        "elif month>=6 and month<=8:\n",
        "  print(month,'月是夏天！')\n",
        "elif month>=9 and month<=11:\n",
        "  print(month,'月是秋天！')\n",
        "elif month==12 or month==1 or month==2:\n",
        "  print(month,'月是冬天！')\n",
        "else:\n",
        "  print('月份不在範圍內！')"
      ],
      "metadata": {
        "colab": {
          "base_uri": "https://localhost:8080/"
        },
        "id": "b8p84_df-wOo",
        "outputId": "13633498-df07-4ddd-f8b4-132d4213005b"
      },
      "execution_count": 9,
      "outputs": [
        {
          "output_type": "stream",
          "name": "stdout",
          "text": [
            "請輸入月份：5\n",
            "5 月是春天！\n"
          ]
        }
      ]
    },
    {
      "cell_type": "code",
      "source": [
        "score = int(input(\"請輸入成績：\"))\n",
        "if score >= 90:\n",
        "    print('A')\n",
        "elif score >= 80:\n",
        "    print('B')\n",
        "elif score >= 70:\n",
        "    print('C')\n",
        "elif score >= 60:\n",
        "    print('D')\n",
        "else:\n",
        "    print('E')"
      ],
      "metadata": {
        "colab": {
          "base_uri": "https://localhost:8080/"
        },
        "id": "AGbq-5ZgBCFT",
        "outputId": "3e9e869a-430c-4caa-ebd3-7aff1f4fb49b"
      },
      "execution_count": 13,
      "outputs": [
        {
          "output_type": "stream",
          "name": "stdout",
          "text": [
            "請輸入成績：90\n",
            "A\n"
          ]
        }
      ]
    },
    {
      "cell_type": "code",
      "source": [
        "income=int(input('請輸入收入：'))\n",
        "if income>=2000000:\n",
        "  tax = income *0.3\n",
        "elif income >= 1000000:\n",
        "    tax = income * 0.21\n",
        "elif income >= 600000:\n",
        "    tax = income * 0.13\n",
        "elif income >= 300000:\n",
        "    tax = income * 0.06\n",
        "else:\n",
        "    tax = 0\n",
        "print(\"賦稅金額：\", tax, \"元\")"
      ],
      "metadata": {
        "colab": {
          "base_uri": "https://localhost:8080/"
        },
        "id": "p75li8gGB3xa",
        "outputId": "41fad634-3ae4-4168-b1e4-200ff926d08f"
      },
      "execution_count": 16,
      "outputs": [
        {
          "output_type": "stream",
          "name": "stdout",
          "text": [
            "請輸入收入：100000\n",
            "賦稅金額： 0 元\n"
          ]
        }
      ]
    },
    {
      "cell_type": "code",
      "source": [
        "income=int(input('請輸入收入：'))\n",
        "if income>=2000000:\n",
        "  tax = income *0.3\n",
        "elif income >= 1000000:\n",
        "    tax = income * 0.21\n",
        "elif income >= 600000:\n",
        "    tax = income * 0.13\n",
        "elif income >= 300000:\n",
        "    tax = income * 0.06\n",
        "else:\n",
        "    tax = 0\n",
        "print(\"賦稅金額：\", tax, \"元\")"
      ],
      "metadata": {
        "colab": {
          "base_uri": "https://localhost:8080/"
        },
        "id": "xvmRU5zyD8vg",
        "outputId": "e746ba0f-59b8-4acd-a0ba-03573563a47e"
      },
      "execution_count": 17,
      "outputs": [
        {
          "output_type": "stream",
          "name": "stdout",
          "text": [
            "請輸入收入：2000000\n",
            "賦稅金額： 600000.0 元\n"
          ]
        }
      ]
    }
  ]
}